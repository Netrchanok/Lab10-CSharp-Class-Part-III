{
 "cells": [
  {
   "cell_type": "markdown",
   "metadata": {},
   "source": [
    "# Lab 10  Class Part III\n"
   ]
  },
  {
   "cell_type": "markdown",
   "metadata": {},
   "source": [
    "## Ex03  การใช้งาน Property พร้อม Backing Field และการตรวจสอบค่า"
   ]
  },
  {
   "cell_type": "markdown",
   "metadata": {},
   "source": [
    "ในการใช้งานวัตถุบางประเภท อาจจะต้องมีการตรวจสอบค่าหรือสถานะปัจจุบันของวัตถุนั้น ถ้าค่าที่ป้อนเข้าไปใหม่ตรงกับค่าที่เป็นปัจจุบัน ก็ไม่ต้องมีการดำเนินการเปลี่ยนแปลง\n",
    "- ถ้าหลอดไฟเปิดอยู่ ก็ไม่ต้องเปิดซ้ำ\n",
    "- ถ้ากำลังดาวน์โหลดไฟล์นั้นอยู่ ก็ไม่ต้องเริ่มดาวน์โหลดอีกรอบ\n",
    "- ถ้าค่าที่ป้อนเข้ามาไม่อยู่ในขอบเขตของ field ที่กำหนด ก็ไม่ต้องเขียนลงไปใน field\n",
    "\n",
    "นับเป็นการควบคุมความปลอดภัยและเพิ่มประสิทธิภาพในการทำงานของคลาสได้"
   ]
  },
  {
   "cell_type": "markdown",
   "metadata": {},
   "source": [
    "### การทดลองย่อย 10.3.1 Backing Field ทั่วไป"
   ]
  },
  {
   "cell_type": "code",
   "execution_count": 1,
   "metadata": {
    "dotnet_interactive": {
     "language": "csharp"
    },
    "polyglot_notebook": {
     "kernelName": "csharp"
    }
   },
   "outputs": [],
   "source": [
    "public class Person\n",
    "{\n",
    "    private string _name;\n",
    "\n",
    "    public string Name\n",
    "    {\n",
    "        get { return _name; }\n",
    "        set { _name = value; }\n",
    "    }\n",
    "}"
   ]
  },
  {
   "cell_type": "markdown",
   "metadata": {},
   "source": [
    "ให้เขียน code เพื่อทำงานดังนี้\n",
    "1. สร้าง object  'p' จากคลาส Person\n",
    "2. กำหนดชื่อให้ 'p' ผ่าน property 'Name'\n",
    "3. แสดงชื่อของ p โดยเมธอด WriteLine()"
   ]
  },
  {
   "cell_type": "code",
   "execution_count": 2,
   "metadata": {
    "dotnet_interactive": {
     "language": "csharp"
    },
    "polyglot_notebook": {
     "kernelName": "csharp"
    }
   },
   "outputs": [
    {
     "ename": "Error",
     "evalue": "(5,13): error CS0122: 'Person._name' is inaccessible due to its protection level",
     "output_type": "error",
     "traceback": [
      "(5,13): error CS0122: 'Person._name' is inaccessible due to its protection level"
     ]
    }
   ],
   "source": [
    "using static System.Console;\n",
    "\n",
    "Person p = new();\n",
    "p.Name = \"_______\";\n",
    "WriteLine(p._name);  // p._name ได้หรือไม่ ถ้าไม่ได้ แก้ไขให้ถูกต้อง"
   ]
  },
  {
   "cell_type": "code",
   "execution_count": 7,
   "metadata": {
    "polyglot_notebook": {
     "kernelName": "csharp"
    }
   },
   "outputs": [],
   "source": [
    "using System;\n",
    "\n",
    "public class Person\n",
    "{\n",
    "    private string _name; // Field ที่เป็น private\n",
    "\n",
    "    // Property สำหรับการเข้าถึง field _name\n",
    "    public string Name \n",
    "    {\n",
    "        get { return _name; }  // การดึงค่าจาก field _name\n",
    "        set { _name = value; } // การตั้งค่าให้ field _name\n",
    "    }\n",
    "}\n",
    "\n",
    "class Program\n",
    "{\n",
    "    static void Main()\n",
    "    {\n",
    "        Person p = new Person(); // สร้างอ็อบเจ็กต์ของ Person\n",
    "        p.Name = \"Netrchanok\";    // กำหนดค่าชื่อผ่าน property\n",
    "        Console.WriteLine(p.Name); // แสดงค่าชื่อผ่าน property\n",
    "    }\n",
    "}\n"
   ]
  },
  {
   "cell_type": "markdown",
   "metadata": {},
   "source": [
    "### การทดลองย่อย 10.3.2 Backing Field พร้อมการตรวจสอบค่า"
   ]
  },
  {
   "cell_type": "code",
   "execution_count": 8,
   "metadata": {
    "dotnet_interactive": {
     "language": "csharp"
    },
    "polyglot_notebook": {
     "kernelName": "csharp"
    }
   },
   "outputs": [],
   "source": [
    "public class Lamp\n",
    "{\n",
    "    private bool _isOn; // backing field \n",
    "\n",
    "    public bool IsOn\n",
    "    {\n",
    "        get { return _isOn; } \n",
    "        set\n",
    "        {\n",
    "            if (value) \n",
    "            {\n",
    "                _isOn = value; \n",
    "            }\n",
    "        }\n",
    "    }\n",
    "}"
   ]
  },
  {
   "cell_type": "markdown",
   "metadata": {},
   "source": [
    "การใช้งาน (ต้องรัน code cell ด้านบนก่อน)"
   ]
  },
  {
   "cell_type": "code",
   "execution_count": 9,
   "metadata": {
    "dotnet_interactive": {
     "language": "csharp"
    },
    "polyglot_notebook": {
     "kernelName": "csharp"
    }
   },
   "outputs": [
    {
     "name": "stdout",
     "output_type": "stream",
     "text": [
      "True\r\n"
     ]
    }
   ],
   "source": [
    "Lamp myLamp = new Lamp();\n",
    "\n",
    "// เปิดไฟ\n",
    "myLamp.IsOn = true;\n",
    "Console.WriteLine(myLamp.IsOn); // Output: True"
   ]
  },
  {
   "cell_type": "code",
   "execution_count": 10,
   "metadata": {
    "dotnet_interactive": {
     "language": "csharp"
    },
    "polyglot_notebook": {
     "kernelName": "csharp"
    }
   },
   "outputs": [
    {
     "name": "stdout",
     "output_type": "stream",
     "text": [
      "True\r\n"
     ]
    }
   ],
   "source": [
    "myLamp.IsOn = false; // พยายามปิดไฟ  แต่ไม่มีผล เนื่องจาก property นี้จะรับเฉพาะค่า true เท่านั้น \n",
    "Console.WriteLine(myLamp.IsOn); // Output: True"
   ]
  },
  {
   "cell_type": "markdown",
   "metadata": {},
   "source": [
    "### การทดลองย่อย 10.3.2 Backing Field พร้อมการตรวจสอบค่า"
   ]
  },
  {
   "cell_type": "markdown",
   "metadata": {},
   "source": [
    "```csharp\n",
    "public class Product\n",
    "{\n",
    "    private decimal _price;\n",
    "\n",
    "    public decimal Price\n",
    "    {\n",
    "        get { return _price; }\n",
    "        set\n",
    "        {\n",
    "            if (value >= 0)\n",
    "            {\n",
    "                _price = value;\n",
    "            }\n",
    "        }\n",
    "    }\n",
    "}\n",
    "```"
   ]
  },
  {
   "cell_type": "markdown",
   "metadata": {},
   "source": [
    "ให้เขียน code เพื่อทำงานดังนี้\n",
    "1. สร้าง object  จากคลาส Product\n",
    "2. กำหนดค่าให้กับ Produbt.Price โดยให้ค่าไม่น้อยกว่า 0 \n",
    "3. แสดง  Produbt.Price  โดยเมธอด WriteLine()"
   ]
  },
  {
   "cell_type": "code",
   "execution_count": 11,
   "metadata": {
    "dotnet_interactive": {
     "language": "csharp"
    },
    "polyglot_notebook": {
     "kernelName": "csharp"
    }
   },
   "outputs": [
    {
     "name": "stdout",
     "output_type": "stream",
     "text": [
      "Product Price: 250.75\n",
      "Product Price after invalid update: 250.75\n"
     ]
    }
   ],
   "source": [
    "// พื้นที่เขียน code\n",
    "public class Product\n",
    "{\n",
    "    private decimal _price;\n",
    "\n",
    "    public decimal Price\n",
    "    {\n",
    "        get { return _price; }\n",
    "        set\n",
    "        {\n",
    "            if (value >= 0)\n",
    "            {\n",
    "                _price = value;\n",
    "            }\n",
    "        }\n",
    "    }\n",
    "}\n",
    "\n",
    "Product product = new();\n",
    "product.Price = 250.75m;\n",
    "Console.WriteLine($\"Product Price: {product.Price}\");\n",
    "\n",
    "product.Price = -50; // ลองใส่ค่าติดลบ\n",
    "Console.WriteLine($\"Product Price after invalid update: {product.Price}\");"
   ]
  },
  {
   "cell_type": "markdown",
   "metadata": {},
   "source": [
    "ให้เขียน code เพื่อทำงานดังนี้\n",
    "1. สร้าง object  จากคลาส Product\n",
    "2. กำหนดค่าให้กับ Produbt.Price โดยให้ค่าเป็นลบ \n",
    "3. แสดง  Produbt.Price  โดยเมธอด WriteLine()\n",
    "// พื้นที่เขียน code"
   ]
  },
  {
   "cell_type": "code",
   "execution_count": 12,
   "metadata": {
    "dotnet_interactive": {
     "language": "csharp"
    },
    "polyglot_notebook": {
     "kernelName": "csharp"
    }
   },
   "outputs": [
    {
     "name": "stdout",
     "output_type": "stream",
     "text": [
      "Product Price: 250.75\n",
      "Error: Price cannot be negative!\n",
      "Product Price after invalid update: 250.75\n"
     ]
    }
   ],
   "source": [
    "// พื้นที่เขียน code\n",
    "public class Product\n",
    "{\n",
    "    private decimal _price;\n",
    "\n",
    "    public decimal Price\n",
    "    {\n",
    "        get { return _price; }\n",
    "        set\n",
    "        {\n",
    "            if (value >= 0)\n",
    "            {\n",
    "                _price = value;\n",
    "            }\n",
    "            else\n",
    "            {\n",
    "                Console.WriteLine(\"Error: Price cannot be negative!\");\n",
    "            }\n",
    "        }\n",
    "    }\n",
    "}\n",
    "\n",
    "Product product = new();\n",
    "product.Price = 250.75m;\n",
    "Console.WriteLine($\"Product Price: {product.Price}\");\n",
    "\n",
    "product.Price = -50; \n",
    "Console.WriteLine($\"Product Price after invalid update: {product.Price}\");"
   ]
  },
  {
   "cell_type": "markdown",
   "metadata": {},
   "source": [
    "### การทดลองย่อย 10.3.4 Backing Field ในรูปแบบที่ซับซ้อนขึ้น"
   ]
  },
  {
   "cell_type": "code",
   "execution_count": 13,
   "metadata": {
    "dotnet_interactive": {
     "language": "csharp"
    },
    "polyglot_notebook": {
     "kernelName": "csharp"
    }
   },
   "outputs": [
    {
     "name": "stdout",
     "output_type": "stream",
     "text": [
      "5  is odd? : True\n",
      "5  is even? : False\n"
     ]
    }
   ],
   "source": [
    "public class Countable\n",
    "{\n",
    "    private int _number;\n",
    "\n",
    "    public int Number  \n",
    "    {\n",
    "        get\n",
    "        { \n",
    "            return _number;\n",
    "        }\n",
    "        set\n",
    "        {\n",
    "            if (value > 0)\n",
    "            {\n",
    "                _number = value;\n",
    "            }\n",
    "        }\n",
    "    }\n",
    "\n",
    "    public bool IsOdd // property แบบ อ่านได้อย่างเดียว มีแต่ setter ไม่มี getter\n",
    "    { \n",
    "        get\n",
    "        {\n",
    "            if(_number % 2 == 0)\n",
    "            return false;\n",
    "            else\n",
    "            return true;\n",
    "        }\n",
    "    }\n",
    "\n",
    "    public bool IsEven // property แบบ อ่านได้อย่างเดียว มีแต่ setter ไม่มี getter\n",
    "    { \n",
    "        get\n",
    "        {\n",
    "            return !IsOdd;\n",
    "        }\n",
    "    }\n",
    "\n",
    "}\n",
    "\n",
    "Countable number = new Countable();\n",
    "number.Number = 5;\n",
    "Console.WriteLine($\"{number.Number}  is odd? : {number.IsOdd}\");\n",
    "Console.WriteLine($\"{number.Number}  is even? : {number.IsEven}\");\n"
   ]
  },
  {
   "cell_type": "markdown",
   "metadata": {},
   "source": [
    "---\n"
   ]
  },
  {
   "cell_type": "markdown",
   "metadata": {},
   "source": [
    "## การสร้างเลขสุ่ม"
   ]
  },
  {
   "cell_type": "code",
   "execution_count": 14,
   "metadata": {
    "polyglot_notebook": {
     "kernelName": "csharp"
    }
   },
   "outputs": [
    {
     "name": "stdout",
     "output_type": "stream",
     "text": [
      "218750643\n",
      "3820\n",
      "87\n"
     ]
    }
   ],
   "source": [
    "Random random = new Random();\n",
    "Console.WriteLine(random.Next());\n",
    "Console.WriteLine(random.Next()%10000);\n",
    "Console.WriteLine(random.Next()%100);"
   ]
  },
  {
   "cell_type": "markdown",
   "metadata": {},
   "source": [
    "### Challenge coding \n",
    "\n",
    "__จากตัวอย่างด้านบน__\n",
    "\n",
    "1. สร้าง object จากคลาส Countable\n",
    "2. ใส่ตัวเลขแบบสุ่ม (จากคลาส Random)\n",
    "3. ให้แสดงว่าตัวเลขนั้นเป็นเลขคี่หรือเลขคู่"
   ]
  },
  {
   "cell_type": "code",
   "execution_count": 15,
   "metadata": {
    "polyglot_notebook": {
     "kernelName": "csharp"
    }
   },
   "outputs": [
    {
     "name": "stdout",
     "output_type": "stream",
     "text": [
      "Random Number: 106\n",
      "This number is Even\n"
     ]
    }
   ],
   "source": [
    "// พื้นที่เขียน code\n",
    "public class Countable\n",
    "{\n",
    "    public int Number { get; set; }\n",
    "    public string EvenOrOdd() \n",
    "    {\n",
    "        return Number % 2 == 0 ? \"Even\" : \"Odd\";\n",
    "    }\n",
    "}\n",
    "\n",
    "Random random = new Random();\n",
    "Countable countable = new Countable();\n",
    "\n",
    "countable.Number = random.Next(1, 1000); \n",
    "Console.WriteLine($\"Random Number: {countable.Number}\");\n",
    "Console.WriteLine($\"This number is {countable.EvenOrOdd()}\");"
   ]
  }
 ],
 "metadata": {
  "kernelspec": {
   "display_name": ".NET (C#)",
   "language": "C#",
   "name": ".net-csharp"
  },
  "polyglot_notebook": {
   "kernelInfo": {
    "defaultKernelName": "csharp",
    "items": [
     {
      "aliases": [],
      "languageName": "csharp",
      "name": "csharp"
     }
    ]
   }
  }
 },
 "nbformat": 4,
 "nbformat_minor": 2
}
